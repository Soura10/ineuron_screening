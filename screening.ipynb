{
 "cells": [
  {
   "cell_type": "markdown",
   "metadata": {},
   "source": [
    "# 1. Create a function in python to read the text file and replace specific content of the file."
   ]
  },
  {
   "cell_type": "code",
   "execution_count": 8,
   "metadata": {},
   "outputs": [],
   "source": [
    "def fun(file_name):\n",
    "    try:\n",
    "        with open(file_name,'r') as f:\n",
    "            file_content=f.read()\n",
    "        return file_content\n",
    "    except Exception as e:\n",
    "        print(\"Error occured to read the content of the file\",e)"
   ]
  },
  {
   "cell_type": "code",
   "execution_count": 9,
   "metadata": {},
   "outputs": [],
   "source": [
    "def replace_str(file_name,old_string,new_string):\n",
    "    try:\n",
    "        old_file_content=fun(file_name)\n",
    "        new_content=old_file_content.replace(old_string,new_string)\n",
    "        with open(file_name,'w') as f:\n",
    "            f.write(new_content)\n",
    "        new_file_content=fun(file_name)\n",
    "        return new_file_content\n",
    "    except Exception as e:\n",
    "        print(\"Error occured due to replace string..\",e)"
   ]
  },
  {
   "cell_type": "code",
   "execution_count": 10,
   "metadata": {},
   "outputs": [],
   "source": [
    "try:\n",
    "    with open('D:\\Downloads\\Ineuron\\Screening_Ass\\example.txt','x') as file:\n",
    "        file.write(\"This is a placement assignment\")\n",
    "except Exception as e:\n",
    "    print(\"An error occured to create the file\")"
   ]
  },
  {
   "cell_type": "code",
   "execution_count": 11,
   "metadata": {},
   "outputs": [
    {
     "name": "stdout",
     "output_type": "stream",
     "text": [
      "Replaced file content.. This is a screening assignment\n"
     ]
    }
   ],
   "source": [
    "new_file_content=replace_str(\"example.txt\",\"placement\",\"screening\")\n",
    "print(\"Replaced file content..\", new_file_content)"
   ]
  },
  {
   "cell_type": "markdown",
   "metadata": {},
   "source": [
    "# 2. Demonstrate use of abstract class, multiple inheritance and decorator in python using examples."
   ]
  },
  {
   "cell_type": "markdown",
   "metadata": {},
   "source": [
    "# Abstract class"
   ]
  },
  {
   "cell_type": "code",
   "execution_count": 3,
   "metadata": {},
   "outputs": [
    {
     "name": "stdout",
     "output_type": "stream",
     "text": [
      "Long tail..\n",
      "short tail..\n"
     ]
    }
   ],
   "source": [
    "from abc import ABC, abstractmethod\n",
    "class canine(ABC):\n",
    "    @abstractmethod\n",
    "    def tail(self):\n",
    "        pass\n",
    "\n",
    "class WOLF(canine):\n",
    "    def tail(self):\n",
    "        print(\"Long tail..\")\n",
    "class DOG(canine):\n",
    "    def tail(self):\n",
    "        print(\"short tail..\")\n",
    "\n",
    "wolf=WOLF()\n",
    "wolf.tail()\n",
    "\n",
    "dog=DOG()\n",
    "dog.tail()\n"
   ]
  },
  {
   "cell_type": "markdown",
   "metadata": {},
   "source": [
    "# Multiple inheritence"
   ]
  },
  {
   "cell_type": "code",
   "execution_count": 2,
   "metadata": {},
   "outputs": [],
   "source": [
    "class A:\n",
    "    def method1(self):\n",
    "        print(\"class A inside method1 ..\")\n",
    "#class B inheriting base class A        \n",
    "class B(A):\n",
    "    def method1(self):\n",
    "        print(\"class B inside method1..\")"
   ]
  },
  {
   "cell_type": "code",
   "execution_count": 3,
   "metadata": {},
   "outputs": [],
   "source": [
    "#class C inheriting base class A\n",
    "class C(A):\n",
    "    def method1(self):\n",
    "        print(\"class C inside method1..\")\n",
    "    def method2(self):\n",
    "        print(\"class C inside method2..\")"
   ]
  },
  {
   "cell_type": "code",
   "execution_count": 4,
   "metadata": {},
   "outputs": [],
   "source": [
    "#class D inheriting base class B and C\n",
    "class D(B,C):\n",
    "    def method1(self):\n",
    "        print(\"class D inside method1..\")"
   ]
  },
  {
   "cell_type": "code",
   "execution_count": 5,
   "metadata": {},
   "outputs": [],
   "source": [
    "obj_d=D()"
   ]
  },
  {
   "cell_type": "code",
   "execution_count": 6,
   "metadata": {},
   "outputs": [
    {
     "name": "stdout",
     "output_type": "stream",
     "text": [
      "class D inside method1..\n"
     ]
    }
   ],
   "source": [
    "obj_d.method1()"
   ]
  },
  {
   "cell_type": "code",
   "execution_count": 7,
   "metadata": {},
   "outputs": [
    {
     "name": "stdout",
     "output_type": "stream",
     "text": [
      "class C inside method2\n"
     ]
    }
   ],
   "source": [
    "obj_d.method2()"
   ]
  },
  {
   "cell_type": "code",
   "execution_count": 8,
   "metadata": {},
   "outputs": [
    {
     "name": "stdout",
     "output_type": "stream",
     "text": [
      "class B inside method1..\n"
     ]
    }
   ],
   "source": [
    "B.method1(obj_d)"
   ]
  },
  {
   "cell_type": "code",
   "execution_count": 9,
   "metadata": {},
   "outputs": [
    {
     "name": "stdout",
     "output_type": "stream",
     "text": [
      "class A inside method1 ..\n"
     ]
    }
   ],
   "source": [
    "A.method1(obj_d)"
   ]
  },
  {
   "cell_type": "markdown",
   "metadata": {},
   "source": [
    "# Decorator"
   ]
  },
  {
   "cell_type": "code",
   "execution_count": 10,
   "metadata": {},
   "outputs": [],
   "source": [
    "def decoder(fun):\n",
    "    def inner():\n",
    "        print(\"this will excecute fist..\")\n",
    "        fun()    \n",
    "        print(\"this will execute last..\")\n",
    "    return inner\n",
    "\n",
    "def fun2():\n",
    "    print(\"Middle\")"
   ]
  },
  {
   "cell_type": "code",
   "execution_count": 11,
   "metadata": {},
   "outputs": [
    {
     "name": "stdout",
     "output_type": "stream",
     "text": [
      "this will excecute fist..\n",
      "Middle\n",
      "this will execute last..\n"
     ]
    }
   ],
   "source": [
    "decoder_call=decoder(fun2)\n",
    "decoder_call()"
   ]
  },
  {
   "cell_type": "code",
   "execution_count": null,
   "metadata": {},
   "outputs": [],
   "source": []
  }
 ],
 "metadata": {
  "kernelspec": {
   "display_name": "Python 3",
   "language": "python",
   "name": "python3"
  },
  "language_info": {
   "codemirror_mode": {
    "name": "ipython",
    "version": 3
   },
   "file_extension": ".py",
   "mimetype": "text/x-python",
   "name": "python",
   "nbconvert_exporter": "python",
   "pygments_lexer": "ipython3",
   "version": "3.7.6"
  }
 },
 "nbformat": 4,
 "nbformat_minor": 4
}
